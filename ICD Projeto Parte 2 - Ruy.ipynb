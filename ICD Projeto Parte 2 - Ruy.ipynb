{
 "cells": [
  {
   "cell_type": "code",
   "execution_count": 203,
   "id": "a77b14aa",
   "metadata": {},
   "outputs": [],
   "source": [
    "import pandas as pd\n",
    "import numpy as np\n",
    "import matplotlib.pyplot as plt"
   ]
  },
  {
   "cell_type": "code",
   "execution_count": 204,
   "id": "2c2d423f",
   "metadata": {},
   "outputs": [
    {
     "data": {
      "text/html": [
       "<div>\n",
       "<style scoped>\n",
       "    .dataframe tbody tr th:only-of-type {\n",
       "        vertical-align: middle;\n",
       "    }\n",
       "\n",
       "    .dataframe tbody tr th {\n",
       "        vertical-align: top;\n",
       "    }\n",
       "\n",
       "    .dataframe thead th {\n",
       "        text-align: right;\n",
       "    }\n",
       "</style>\n",
       "<table border=\"1\" class=\"dataframe\">\n",
       "  <thead>\n",
       "    <tr style=\"text-align: right;\">\n",
       "      <th></th>\n",
       "      <th>Nome do Jogo</th>\n",
       "      <th>Ano</th>\n",
       "      <th>Mês</th>\n",
       "      <th>Média</th>\n",
       "      <th>Ganho de Players</th>\n",
       "      <th>Pico</th>\n",
       "      <th>Media de Picos</th>\n",
       "    </tr>\n",
       "  </thead>\n",
       "  <tbody>\n",
       "    <tr>\n",
       "      <th>0</th>\n",
       "      <td>Counter-Strike: Global Offensive</td>\n",
       "      <td>2021</td>\n",
       "      <td>February</td>\n",
       "      <td>741013.24</td>\n",
       "      <td>-2196.42</td>\n",
       "      <td>1123485</td>\n",
       "      <td>65.9567%</td>\n",
       "    </tr>\n",
       "    <tr>\n",
       "      <th>1</th>\n",
       "      <td>Counter-Strike: Global Offensive</td>\n",
       "      <td>2021</td>\n",
       "      <td>January</td>\n",
       "      <td>743209.66</td>\n",
       "      <td>25405.91</td>\n",
       "      <td>1124553</td>\n",
       "      <td>66.0893%</td>\n",
       "    </tr>\n",
       "    <tr>\n",
       "      <th>2</th>\n",
       "      <td>Counter-Strike: Global Offensive</td>\n",
       "      <td>2020</td>\n",
       "      <td>December</td>\n",
       "      <td>717803.75</td>\n",
       "      <td>49049.17</td>\n",
       "      <td>1164396</td>\n",
       "      <td>61.646%</td>\n",
       "    </tr>\n",
       "    <tr>\n",
       "      <th>3</th>\n",
       "      <td>Counter-Strike: Global Offensive</td>\n",
       "      <td>2020</td>\n",
       "      <td>November</td>\n",
       "      <td>668754.58</td>\n",
       "      <td>55087.89</td>\n",
       "      <td>1037464</td>\n",
       "      <td>64.4605%</td>\n",
       "    </tr>\n",
       "    <tr>\n",
       "      <th>4</th>\n",
       "      <td>Counter-Strike: Global Offensive</td>\n",
       "      <td>2020</td>\n",
       "      <td>October</td>\n",
       "      <td>613666.69</td>\n",
       "      <td>6816.37</td>\n",
       "      <td>943876</td>\n",
       "      <td>65.0156%</td>\n",
       "    </tr>\n",
       "    <tr>\n",
       "      <th>...</th>\n",
       "      <td>...</td>\n",
       "      <td>...</td>\n",
       "      <td>...</td>\n",
       "      <td>...</td>\n",
       "      <td>...</td>\n",
       "      <td>...</td>\n",
       "      <td>...</td>\n",
       "    </tr>\n",
       "    <tr>\n",
       "      <th>83784</th>\n",
       "      <td>Steel Division: Normandy 44</td>\n",
       "      <td>2017</td>\n",
       "      <td>July</td>\n",
       "      <td>421.60</td>\n",
       "      <td>-485.13</td>\n",
       "      <td>987</td>\n",
       "      <td>42.7153%</td>\n",
       "    </tr>\n",
       "    <tr>\n",
       "      <th>83785</th>\n",
       "      <td>Steel Division: Normandy 44</td>\n",
       "      <td>2017</td>\n",
       "      <td>June</td>\n",
       "      <td>906.74</td>\n",
       "      <td>-231.92</td>\n",
       "      <td>2584</td>\n",
       "      <td>35.0906%</td>\n",
       "    </tr>\n",
       "    <tr>\n",
       "      <th>83786</th>\n",
       "      <td>Steel Division: Normandy 44</td>\n",
       "      <td>2017</td>\n",
       "      <td>May</td>\n",
       "      <td>1138.66</td>\n",
       "      <td>415.61</td>\n",
       "      <td>4606</td>\n",
       "      <td>24.7212%</td>\n",
       "    </tr>\n",
       "    <tr>\n",
       "      <th>83787</th>\n",
       "      <td>Steel Division: Normandy 44</td>\n",
       "      <td>2017</td>\n",
       "      <td>April</td>\n",
       "      <td>723.05</td>\n",
       "      <td>720.21</td>\n",
       "      <td>1911</td>\n",
       "      <td>37.8362%</td>\n",
       "    </tr>\n",
       "    <tr>\n",
       "      <th>83788</th>\n",
       "      <td>Steel Division: Normandy 44</td>\n",
       "      <td>2017</td>\n",
       "      <td>March</td>\n",
       "      <td>2.84</td>\n",
       "      <td>NaN</td>\n",
       "      <td>14</td>\n",
       "      <td>20.2857%</td>\n",
       "    </tr>\n",
       "  </tbody>\n",
       "</table>\n",
       "<p>83789 rows × 7 columns</p>\n",
       "</div>"
      ],
      "text/plain": [
       "                           Nome do Jogo   Ano        Mês      Média  \\\n",
       "0      Counter-Strike: Global Offensive  2021  February   741013.24   \n",
       "1      Counter-Strike: Global Offensive  2021   January   743209.66   \n",
       "2      Counter-Strike: Global Offensive  2020  December   717803.75   \n",
       "3      Counter-Strike: Global Offensive  2020  November   668754.58   \n",
       "4      Counter-Strike: Global Offensive  2020   October   613666.69   \n",
       "...                                 ...   ...        ...        ...   \n",
       "83784       Steel Division: Normandy 44  2017      July      421.60   \n",
       "83785       Steel Division: Normandy 44  2017      June      906.74   \n",
       "83786       Steel Division: Normandy 44  2017       May     1138.66   \n",
       "83787       Steel Division: Normandy 44  2017     April      723.05   \n",
       "83788       Steel Division: Normandy 44  2017     March        2.84   \n",
       "\n",
       "       Ganho de Players     Pico Media de Picos  \n",
       "0              -2196.42  1123485       65.9567%  \n",
       "1              25405.91  1124553       66.0893%  \n",
       "2              49049.17  1164396        61.646%  \n",
       "3              55087.89  1037464       64.4605%  \n",
       "4               6816.37   943876       65.0156%  \n",
       "...                 ...      ...            ...  \n",
       "83784           -485.13      987       42.7153%  \n",
       "83785           -231.92     2584       35.0906%  \n",
       "83786            415.61     4606       24.7212%  \n",
       "83787            720.21     1911       37.8362%  \n",
       "83788               NaN       14       20.2857%  \n",
       "\n",
       "[83789 rows x 7 columns]"
      ]
     },
     "execution_count": 204,
     "metadata": {},
     "output_type": "execute_result"
    }
   ],
   "source": [
    "games = pd.read_csv('C:\\\\Users\\\\Ruy\\\\Documents\\\\steam.csv')\n",
    "newgames = games.rename(columns={'year': 'Ano','avg':'Média','gamename':'Nome do Jogo','month':'Mês','gain':'Ganho de Players'\n",
    "                                 ,'peak':'Pico','avg_peak_perc':'Media de Picos'})\n",
    "newgames"
   ]
  },
  {
   "cell_type": "markdown",
   "id": "a439a46a",
   "metadata": {},
   "source": [
    "# Médias\n",
    "---"
   ]
  },
  {
   "cell_type": "code",
   "execution_count": 205,
   "id": "a2bcad65",
   "metadata": {
    "scrolled": true
   },
   "outputs": [
    {
     "name": "stdout",
     "output_type": "stream",
     "text": [
      "A Média dos anos é: 2017.34\n",
      "A Média das médias é: 2792.02\n",
      "A Média da diferença entre jogadores em relação ao mês anterior é: -10.25\n",
      "A Média dos Picos é: 5518.88\n"
     ]
    }
   ],
   "source": [
    "#Media(Ano)\n",
    "MediaAno = newgames[\"Ano\"].mean()\n",
    "print(\"A Média dos anos é: %.2f\" %MediaAno)\n",
    "#Média(Médias De Jogadores Jogando Ao Mesmo Tempo)\n",
    "Mediaavg = newgames[\"Média\"].mean()\n",
    "print(\"A Média das médias é: %.2f\" %Mediaavg)\n",
    "#Média(Médias Da Diferença entre jogadores em relação ao mês anteior)\n",
    "MediaGP = newgames[\"Ganho de Players\"].mean()\n",
    "print(\"A Média da diferença entre jogadores em relação ao mês anterior é: %.2f\" %MediaGP)\n",
    "#Média(Média dos Picos)\n",
    "MediaPico = newgames[\"Pico\"].mean()\n",
    "print(\"A Média dos Picos é: %.2f\" %MediaPico)\n",
    "# Não foi possível relaizar a operação da Média com a coluna (Media de Picos)."
   ]
  },
  {
   "cell_type": "markdown",
   "id": "cbb7a3fa",
   "metadata": {},
   "source": [
    "# Medianas\n",
    "---"
   ]
  },
  {
   "cell_type": "code",
   "execution_count": 206,
   "id": "6ede6002",
   "metadata": {
    "scrolled": true
   },
   "outputs": [
    {
     "name": "stdout",
     "output_type": "stream",
     "text": [
      "A Mediana dos anos é: 2018.00\n",
      "A Mediana das médias é: 204.27\n",
      "A Mediana da diferença entre jogadores em relação ao mês anterior é: -1.63\n",
      "A Mediana dos Picos é: 502.00\n"
     ]
    }
   ],
   "source": [
    "#Mediana(Ano)\n",
    "MedianaAno = newgames[\"Ano\"].median()\n",
    "print(\"A Mediana dos anos é: %.2f\" %MedianaAno)\n",
    "#Médiana(Mediana De Jogadores Jogando Ao Mesmo Tempo)\n",
    "Medianaavg = newgames[\"Média\"].median()\n",
    "print(\"A Mediana das médias é: %.2f\" %Medianaavg)\n",
    "#Médiana(Mediana Da Diferença entre jogadores em relação ao mês anteior)\n",
    "MedianaGP = newgames[\"Ganho de Players\"].median()\n",
    "print(\"A Mediana da diferença entre jogadores em relação ao mês anterior é: %.2f\" %MedianaGP)\n",
    "#Médiana(Mediana dos Picos)\n",
    "MedianaPico = newgames[\"Pico\"].median()\n",
    "print(\"A Mediana dos Picos é: %.2f\" %MedianaPico)\n",
    "# Não foi possível relaizar a operação da Mediana com a coluna (Media de Picos)."
   ]
  },
  {
   "cell_type": "markdown",
   "id": "e301f2d9",
   "metadata": {},
   "source": [
    "# Modas\n",
    "---"
   ]
  },
  {
   "cell_type": "code",
   "execution_count": 207,
   "id": "b400a89c",
   "metadata": {
    "scrolled": true
   },
   "outputs": [
    {
     "name": "stdout",
     "output_type": "stream",
     "text": [
      "A Moda dos anos é: 2020.00\n",
      "A Moda das médias é: 0.00\n",
      "A Moda da diferença entre jogadores em relação ao mês anterior é: 0.00\n",
      "A Moda dos Picos é: 2.00\n"
     ]
    }
   ],
   "source": [
    "#Moda(Ano)\n",
    "ModaAno = newgames[\"Ano\"].mode()\n",
    "print(\"A Moda dos anos é: %.2f\" %ModaAno)\n",
    "#Moda(Moda De Jogadores Jogando Ao Mesmo Tempo)\n",
    "Modaavg = newgames[\"Média\"].mode()\n",
    "print(\"A Moda das médias é: %.2f\" %Modaavg)\n",
    "#Moda(Moda Da Diferença entre jogadores em relação ao mês anteior)\n",
    "ModaGP = newgames[\"Ganho de Players\"].mode()\n",
    "print(\"A Moda da diferença entre jogadores em relação ao mês anterior é: %.2f\" %ModaGP)\n",
    "#Moda(Moda dos Picos)\n",
    "ModaPico = newgames[\"Pico\"].mode()\n",
    "print(\"A Moda dos Picos é: %.2f\" %ModaPico)\n",
    "# Não foi possível relaizar a operação da Moda com a coluna (Media de Picos)."
   ]
  },
  {
   "cell_type": "markdown",
   "id": "8a5ebf3f",
   "metadata": {},
   "source": [
    "# Variancias\n",
    "---"
   ]
  },
  {
   "cell_type": "code",
   "execution_count": 208,
   "id": "d982077f",
   "metadata": {
    "scrolled": false
   },
   "outputs": [
    {
     "name": "stdout",
     "output_type": "stream",
     "text": [
      "A Variancia dos anos é: 5.01\n",
      "A Variancia das médias é: 701444851.41\n",
      "A Variancia da diferneça entre jogadores em relação ao mês anterior é: 14363675.56\n",
      "A Variancia dos Picos é: 2515594834.99\n"
     ]
    }
   ],
   "source": [
    "#Variancia(Ano)\n",
    "VarrAno = newgames[\"Ano\"].var()\n",
    "print(\"A Variancia dos anos é: %.2f\" %VarrAno)\n",
    "#Variancia(Variancia De Jogadores Joagndo Ao Mesmo Tempo)\n",
    "Varravg = newgames[\"Média\"].var()\n",
    "print(\"A Variancia das médias é: %.2f\" %Varravg)\n",
    "#variancia(Variancia Da Diferença entre jogadores em relação ao mês anteior)\n",
    "VarrGP = newgames[\"Ganho de Players\"].var()\n",
    "print(\"A Variancia da diferneça entre jogadores em relação ao mês anterior é: %.2f\" %VarrGP)\n",
    "#Variancia(Variancia dos Picos)\n",
    "VarrPico = newgames[\"Pico\"].var()\n",
    "print(\"A Variancia dos Picos é: %.2f\" %VarrPico)\n",
    "# Não foi possível relaizar a operação da Variancia com a coluna (Media de Picos)."
   ]
  },
  {
   "cell_type": "markdown",
   "id": "8432d1d5",
   "metadata": {},
   "source": [
    "# Amplitude\n",
    "---"
   ]
  },
  {
   "cell_type": "code",
   "execution_count": 209,
   "id": "45281b0e",
   "metadata": {},
   "outputs": [
    {
     "name": "stdout",
     "output_type": "stream",
     "text": [
      "A Amplitude dos anos é: 9.00\n",
      "A Amplitude das médias é: 1584886.77\n",
      "A Amplitude da diferneça entre jogadores em relação ao mês anterior é: 676695.11\n",
      "A Amplitude dos Picos é: 3236027.00\n"
     ]
    }
   ],
   "source": [
    "#Amplitude(Ano)\n",
    "AmpliAno = newgames[\"Ano\"].max() - newgames[\"Ano\"].min()\n",
    "print(\"A Amplitude dos anos é: %.2f\" %AmpliAno)\n",
    "#Amplitude(Amplitude De Jogadores Joagndo Ao Mesmo Tempo)\n",
    "Ampliavg = newgames[\"Média\"].max() - newgames[\"Média\"].min()\n",
    "print(\"A Amplitude das médias é: %.2f\" %Ampliavg)\n",
    "#Amplitude(Amplitude Da Diferença entre jogadores em relação ao mês anteior)\n",
    "AmpliGP = newgames[\"Ganho de Players\"].max() - newgames[\"Ganho de Players\"].min()\n",
    "print(\"A Amplitude da diferneça entre jogadores em relação ao mês anterior é: %.2f\" %AmpliGP)\n",
    "#Amplitude(Amplitude dos Picos)\n",
    "AmpliPico = newgames[\"Pico\"].max() - newgames[\"Pico\"].min()\n",
    "print(\"A Amplitude dos Picos é: %.2f\" %AmpliPico)\n",
    "# Não foi possível relaizar a operação da Amplitude com a coluna (Media de Picos)."
   ]
  },
  {
   "cell_type": "markdown",
   "id": "8bf816f8",
   "metadata": {},
   "source": [
    "# Desvio Padrão\n",
    "---"
   ]
  },
  {
   "cell_type": "code",
   "execution_count": 210,
   "id": "4c795e86",
   "metadata": {
    "scrolled": true
   },
   "outputs": [
    {
     "name": "stdout",
     "output_type": "stream",
     "text": [
      "O Desvio Padrão dos anos é: 2.24\n",
      "O Desvio Padrão das médias é: 26484.80\n",
      "O Desvio Padrão da diferneça entre jogadores em relação ao mês anterior é: 3789.94\n",
      "O Desvio Padrão dos Picos é: 50155.71\n"
     ]
    }
   ],
   "source": [
    "#Desvio Padrão(Ano)\n",
    "STDAno = newgames[\"Ano\"].std()\n",
    "print(\"O Desvio Padrão dos anos é: %.2f\" %STDAno)\n",
    "#Desvio Padrão(Desvio Padrão De Jogadores Joagndo Ao Mesmo Tempo)\n",
    "STDavg = newgames[\"Média\"].std()\n",
    "print(\"O Desvio Padrão das médias é: %.2f\" %STDavg)\n",
    "#Desvio Padrão(Desvio Padrão Da Diferença entre jogadores em relação ao mês anteior)\n",
    "STDGP = newgames[\"Ganho de Players\"].std()\n",
    "print(\"O Desvio Padrão da diferneça entre jogadores em relação ao mês anterior é: %.2f\" %STDGP)\n",
    "#Desvio Padrão(Desvio Padrão dos Picos)\n",
    "STDPico = newgames[\"Pico\"].std()\n",
    "print(\"O Desvio Padrão dos Picos é: %.2f\" %STDPico)\n",
    "# Não foi possível relaizar a operação do Desvio Padrão com a coluna (Media de Picos)."
   ]
  },
  {
   "cell_type": "markdown",
   "id": "a36d6d8f",
   "metadata": {},
   "source": [
    "# Desvio Absoluto\n",
    "---"
   ]
  },
  {
   "cell_type": "code",
   "execution_count": 211,
   "id": "4f336bf0",
   "metadata": {},
   "outputs": [
    {
     "name": "stdout",
     "output_type": "stream",
     "text": [
      "O Desvio Absoluto dos anos é: 1.88\n",
      "O Desvio Absoluto das médias é: 4316.93\n",
      "O Desvio Absoluto da diferneça entre jogadores em relação ao mês anterior é: 424.79\n",
      "O Desvio Absoluto dos Picos é: 8316.21\n"
     ]
    }
   ],
   "source": [
    "#Desvio Absoluto(Ano)\n",
    "MADAno = newgames[\"Ano\"].mad()\n",
    "print(\"O Desvio Absoluto dos anos é: %.2f\" %MADAno)\n",
    "#Desvio Absoluto(Desvio Absoluto De Jogadores Joagndo Ao Mesmo Tempo)\n",
    "MADavg = newgames[\"Média\"].mad()\n",
    "print(\"O Desvio Absoluto das médias é: %.2f\" %MADavg)\n",
    "#Desvio Absoluto(Desvio Absoluto Da Diferença entre jogadores em relação ao mês anteior)\n",
    "MADGP = newgames[\"Ganho de Players\"].mad()\n",
    "print(\"O Desvio Absoluto da diferneça entre jogadores em relação ao mês anterior é: %.2f\" %MADGP)\n",
    "#Desvio Absoluto(Desvio Absoluto dos Picos)\n",
    "MADPico = newgames[\"Pico\"].mad()\n",
    "print(\"O Desvio Absoluto dos Picos é: %.2f\" %MADPico)\n",
    "# Não foi possível relaizar a operação da Desvio Absoluto com a coluna (Media de Picos)."
   ]
  },
  {
   "cell_type": "markdown",
   "id": "9bbd6852",
   "metadata": {},
   "source": [
    "# Correlação\n",
    "---"
   ]
  },
  {
   "cell_type": "code",
   "execution_count": 224,
   "id": "f5c6bfbc",
   "metadata": {},
   "outputs": [
    {
     "data": {
      "text/html": [
       "<div>\n",
       "<style scoped>\n",
       "    .dataframe tbody tr th:only-of-type {\n",
       "        vertical-align: middle;\n",
       "    }\n",
       "\n",
       "    .dataframe tbody tr th {\n",
       "        vertical-align: top;\n",
       "    }\n",
       "\n",
       "    .dataframe thead th {\n",
       "        text-align: right;\n",
       "    }\n",
       "</style>\n",
       "<table border=\"1\" class=\"dataframe\">\n",
       "  <thead>\n",
       "    <tr style=\"text-align: right;\">\n",
       "      <th></th>\n",
       "      <th>Ano</th>\n",
       "      <th>Média</th>\n",
       "      <th>Ganho de Players</th>\n",
       "      <th>Pico</th>\n",
       "    </tr>\n",
       "  </thead>\n",
       "  <tbody>\n",
       "    <tr>\n",
       "      <th>Ano</th>\n",
       "      <td>1.000000</td>\n",
       "      <td>0.008840</td>\n",
       "      <td>-0.004343</td>\n",
       "      <td>0.006567</td>\n",
       "    </tr>\n",
       "    <tr>\n",
       "      <th>Média</th>\n",
       "      <td>0.008840</td>\n",
       "      <td>1.000000</td>\n",
       "      <td>0.099651</td>\n",
       "      <td>0.987918</td>\n",
       "    </tr>\n",
       "    <tr>\n",
       "      <th>Ganho de Players</th>\n",
       "      <td>-0.004343</td>\n",
       "      <td>0.099651</td>\n",
       "      <td>1.000000</td>\n",
       "      <td>0.102983</td>\n",
       "    </tr>\n",
       "    <tr>\n",
       "      <th>Pico</th>\n",
       "      <td>0.006567</td>\n",
       "      <td>0.987918</td>\n",
       "      <td>0.102983</td>\n",
       "      <td>1.000000</td>\n",
       "    </tr>\n",
       "  </tbody>\n",
       "</table>\n",
       "</div>"
      ],
      "text/plain": [
       "                       Ano     Média  Ganho de Players      Pico\n",
       "Ano               1.000000  0.008840         -0.004343  0.006567\n",
       "Média             0.008840  1.000000          0.099651  0.987918\n",
       "Ganho de Players -0.004343  0.099651          1.000000  0.102983\n",
       "Pico              0.006567  0.987918          0.102983  1.000000"
      ]
     },
     "execution_count": 224,
     "metadata": {},
     "output_type": "execute_result"
    }
   ],
   "source": [
    "newgames[[\"Ano\",\"Média\",\"Ganho de Players\",\"Pico\"]].corr()"
   ]
  },
  {
   "cell_type": "markdown",
   "id": "4c909def",
   "metadata": {},
   "source": [
    "# Covariancia\n",
    "---"
   ]
  },
  {
   "cell_type": "code",
   "execution_count": 214,
   "id": "25287b93",
   "metadata": {},
   "outputs": [
    {
     "data": {
      "text/html": [
       "<div>\n",
       "<style scoped>\n",
       "    .dataframe tbody tr th:only-of-type {\n",
       "        vertical-align: middle;\n",
       "    }\n",
       "\n",
       "    .dataframe tbody tr th {\n",
       "        vertical-align: top;\n",
       "    }\n",
       "\n",
       "    .dataframe thead th {\n",
       "        text-align: right;\n",
       "    }\n",
       "</style>\n",
       "<table border=\"1\" class=\"dataframe\">\n",
       "  <thead>\n",
       "    <tr style=\"text-align: right;\">\n",
       "      <th></th>\n",
       "      <th>Ano</th>\n",
       "      <th>Média</th>\n",
       "      <th>Ganho de Players</th>\n",
       "      <th>Pico</th>\n",
       "    </tr>\n",
       "  </thead>\n",
       "  <tbody>\n",
       "    <tr>\n",
       "      <th>Ano</th>\n",
       "      <td>5.006797</td>\n",
       "      <td>5.238938e+02</td>\n",
       "      <td>-3.648083e+01</td>\n",
       "      <td>7.370505e+02</td>\n",
       "    </tr>\n",
       "    <tr>\n",
       "      <th>Média</th>\n",
       "      <td>523.893805</td>\n",
       "      <td>7.014449e+08</td>\n",
       "      <td>1.004743e+07</td>\n",
       "      <td>1.312315e+09</td>\n",
       "    </tr>\n",
       "    <tr>\n",
       "      <th>Ganho de Players</th>\n",
       "      <td>-36.480825</td>\n",
       "      <td>1.004743e+07</td>\n",
       "      <td>1.436368e+07</td>\n",
       "      <td>1.964411e+07</td>\n",
       "    </tr>\n",
       "    <tr>\n",
       "      <th>Pico</th>\n",
       "      <td>737.050478</td>\n",
       "      <td>1.312315e+09</td>\n",
       "      <td>1.964411e+07</td>\n",
       "      <td>2.515595e+09</td>\n",
       "    </tr>\n",
       "  </tbody>\n",
       "</table>\n",
       "</div>"
      ],
      "text/plain": [
       "                         Ano         Média  Ganho de Players          Pico\n",
       "Ano                 5.006797  5.238938e+02     -3.648083e+01  7.370505e+02\n",
       "Média             523.893805  7.014449e+08      1.004743e+07  1.312315e+09\n",
       "Ganho de Players  -36.480825  1.004743e+07      1.436368e+07  1.964411e+07\n",
       "Pico              737.050478  1.312315e+09      1.964411e+07  2.515595e+09"
      ]
     },
     "execution_count": 214,
     "metadata": {},
     "output_type": "execute_result"
    }
   ],
   "source": [
    "Cov = newgames.cov()\n",
    "Cov"
   ]
  },
  {
   "cell_type": "markdown",
   "id": "477a2d87",
   "metadata": {},
   "source": [
    "# Boxplot\n",
    "---"
   ]
  },
  {
   "cell_type": "code",
   "execution_count": 223,
   "id": "614a6781",
   "metadata": {},
   "outputs": [
    {
     "data": {
      "text/plain": [
       "<AxesSubplot:>"
      ]
     },
     "execution_count": 223,
     "metadata": {},
     "output_type": "execute_result"
    },
    {
     "data": {
      "image/png": "[encoded data removed]",
      "text/plain": [
       "<Figure size 432x288 with 1 Axes>"
      ]
     },
     "metadata": {
      "needs_background": "light"
     },
     "output_type": "display_data"
    }
   ],
   "source": [
    "newgames.boxplot(column=[\"Ano\",\"Média\",\"Ganho de Players\",\"Pico\"])"
   ]
  },
  {
   "cell_type": "markdown",
   "id": "0db3530d",
   "metadata": {},
   "source": [
    "# Dataset #2\n",
    "---"
   ]
  },
  {
   "cell_type": "code",
   "execution_count": 219,
   "id": "6c007bc0",
   "metadata": {
    "scrolled": true
   },
   "outputs": [
    {
     "data": {
      "text/html": [
       "<div>\n",
       "<style scoped>\n",
       "    .dataframe tbody tr th:only-of-type {\n",
       "        vertical-align: middle;\n",
       "    }\n",
       "\n",
       "    .dataframe tbody tr th {\n",
       "        vertical-align: top;\n",
       "    }\n",
       "\n",
       "    .dataframe thead th {\n",
       "        text-align: right;\n",
       "    }\n",
       "</style>\n",
       "<table border=\"1\" class=\"dataframe\">\n",
       "  <thead>\n",
       "    <tr style=\"text-align: right;\">\n",
       "      <th></th>\n",
       "      <th>appid</th>\n",
       "      <th>name</th>\n",
       "      <th>release_date</th>\n",
       "      <th>english</th>\n",
       "      <th>Dev</th>\n",
       "      <th>publisher</th>\n",
       "      <th>platforms</th>\n",
       "      <th>required_age</th>\n",
       "      <th>categories</th>\n",
       "      <th>Generos</th>\n",
       "      <th>steamspy_tags</th>\n",
       "      <th>achievements</th>\n",
       "      <th>Notas positivas</th>\n",
       "      <th>Notas negativas</th>\n",
       "      <th>Tempo medio jogado</th>\n",
       "      <th>Mediana tempo jogado</th>\n",
       "      <th>owners</th>\n",
       "      <th>preço</th>\n",
       "    </tr>\n",
       "  </thead>\n",
       "  <tbody>\n",
       "    <tr>\n",
       "      <th>0</th>\n",
       "      <td>10</td>\n",
       "      <td>Counter-Strike</td>\n",
       "      <td>2000-11-01</td>\n",
       "      <td>1</td>\n",
       "      <td>Valve</td>\n",
       "      <td>Valve</td>\n",
       "      <td>windows;mac;linux</td>\n",
       "      <td>0</td>\n",
       "      <td>Multi-player;Online Multi-Player;Local Multi-P...</td>\n",
       "      <td>Action</td>\n",
       "      <td>Action;FPS;Multiplayer</td>\n",
       "      <td>0</td>\n",
       "      <td>124534</td>\n",
       "      <td>3339</td>\n",
       "      <td>17612</td>\n",
       "      <td>317</td>\n",
       "      <td>10000000-20000000</td>\n",
       "      <td>7.19</td>\n",
       "    </tr>\n",
       "    <tr>\n",
       "      <th>1</th>\n",
       "      <td>20</td>\n",
       "      <td>Team Fortress Classic</td>\n",
       "      <td>1999-04-01</td>\n",
       "      <td>1</td>\n",
       "      <td>Valve</td>\n",
       "      <td>Valve</td>\n",
       "      <td>windows;mac;linux</td>\n",
       "      <td>0</td>\n",
       "      <td>Multi-player;Online Multi-Player;Local Multi-P...</td>\n",
       "      <td>Action</td>\n",
       "      <td>Action;FPS;Multiplayer</td>\n",
       "      <td>0</td>\n",
       "      <td>3318</td>\n",
       "      <td>633</td>\n",
       "      <td>277</td>\n",
       "      <td>62</td>\n",
       "      <td>5000000-10000000</td>\n",
       "      <td>3.99</td>\n",
       "    </tr>\n",
       "    <tr>\n",
       "      <th>2</th>\n",
       "      <td>30</td>\n",
       "      <td>Day of Defeat</td>\n",
       "      <td>2003-05-01</td>\n",
       "      <td>1</td>\n",
       "      <td>Valve</td>\n",
       "      <td>Valve</td>\n",
       "      <td>windows;mac;linux</td>\n",
       "      <td>0</td>\n",
       "      <td>Multi-player;Valve Anti-Cheat enabled</td>\n",
       "      <td>Action</td>\n",
       "      <td>FPS;World War II;Multiplayer</td>\n",
       "      <td>0</td>\n",
       "      <td>3416</td>\n",
       "      <td>398</td>\n",
       "      <td>187</td>\n",
       "      <td>34</td>\n",
       "      <td>5000000-10000000</td>\n",
       "      <td>3.99</td>\n",
       "    </tr>\n",
       "    <tr>\n",
       "      <th>3</th>\n",
       "      <td>40</td>\n",
       "      <td>Deathmatch Classic</td>\n",
       "      <td>2001-06-01</td>\n",
       "      <td>1</td>\n",
       "      <td>Valve</td>\n",
       "      <td>Valve</td>\n",
       "      <td>windows;mac;linux</td>\n",
       "      <td>0</td>\n",
       "      <td>Multi-player;Online Multi-Player;Local Multi-P...</td>\n",
       "      <td>Action</td>\n",
       "      <td>Action;FPS;Multiplayer</td>\n",
       "      <td>0</td>\n",
       "      <td>1273</td>\n",
       "      <td>267</td>\n",
       "      <td>258</td>\n",
       "      <td>184</td>\n",
       "      <td>5000000-10000000</td>\n",
       "      <td>3.99</td>\n",
       "    </tr>\n",
       "    <tr>\n",
       "      <th>4</th>\n",
       "      <td>50</td>\n",
       "      <td>Half-Life: Opposing Force</td>\n",
       "      <td>1999-11-01</td>\n",
       "      <td>1</td>\n",
       "      <td>Gearbox Software</td>\n",
       "      <td>Valve</td>\n",
       "      <td>windows;mac;linux</td>\n",
       "      <td>0</td>\n",
       "      <td>Single-player;Multi-player;Valve Anti-Cheat en...</td>\n",
       "      <td>Action</td>\n",
       "      <td>FPS;Action;Sci-fi</td>\n",
       "      <td>0</td>\n",
       "      <td>5250</td>\n",
       "      <td>288</td>\n",
       "      <td>624</td>\n",
       "      <td>415</td>\n",
       "      <td>5000000-10000000</td>\n",
       "      <td>3.99</td>\n",
       "    </tr>\n",
       "    <tr>\n",
       "      <th>...</th>\n",
       "      <td>...</td>\n",
       "      <td>...</td>\n",
       "      <td>...</td>\n",
       "      <td>...</td>\n",
       "      <td>...</td>\n",
       "      <td>...</td>\n",
       "      <td>...</td>\n",
       "      <td>...</td>\n",
       "      <td>...</td>\n",
       "      <td>...</td>\n",
       "      <td>...</td>\n",
       "      <td>...</td>\n",
       "      <td>...</td>\n",
       "      <td>...</td>\n",
       "      <td>...</td>\n",
       "      <td>...</td>\n",
       "      <td>...</td>\n",
       "      <td>...</td>\n",
       "    </tr>\n",
       "    <tr>\n",
       "      <th>27070</th>\n",
       "      <td>1065230</td>\n",
       "      <td>Room of Pandora</td>\n",
       "      <td>2019-04-24</td>\n",
       "      <td>1</td>\n",
       "      <td>SHEN JIAWEI</td>\n",
       "      <td>SHEN JIAWEI</td>\n",
       "      <td>windows</td>\n",
       "      <td>0</td>\n",
       "      <td>Single-player;Steam Achievements</td>\n",
       "      <td>Adventure;Casual;Indie</td>\n",
       "      <td>Adventure;Indie;Casual</td>\n",
       "      <td>7</td>\n",
       "      <td>3</td>\n",
       "      <td>0</td>\n",
       "      <td>0</td>\n",
       "      <td>0</td>\n",
       "      <td>0-20000</td>\n",
       "      <td>2.09</td>\n",
       "    </tr>\n",
       "    <tr>\n",
       "      <th>27071</th>\n",
       "      <td>1065570</td>\n",
       "      <td>Cyber Gun</td>\n",
       "      <td>2019-04-23</td>\n",
       "      <td>1</td>\n",
       "      <td>Semyon Maximov</td>\n",
       "      <td>BekkerDev Studio</td>\n",
       "      <td>windows</td>\n",
       "      <td>0</td>\n",
       "      <td>Single-player</td>\n",
       "      <td>Action;Adventure;Indie</td>\n",
       "      <td>Action;Indie;Adventure</td>\n",
       "      <td>0</td>\n",
       "      <td>8</td>\n",
       "      <td>1</td>\n",
       "      <td>0</td>\n",
       "      <td>0</td>\n",
       "      <td>0-20000</td>\n",
       "      <td>1.69</td>\n",
       "    </tr>\n",
       "    <tr>\n",
       "      <th>27072</th>\n",
       "      <td>1065650</td>\n",
       "      <td>Super Star Blast</td>\n",
       "      <td>2019-04-24</td>\n",
       "      <td>1</td>\n",
       "      <td>EntwicklerX</td>\n",
       "      <td>EntwicklerX</td>\n",
       "      <td>windows</td>\n",
       "      <td>0</td>\n",
       "      <td>Single-player;Multi-player;Co-op;Shared/Split ...</td>\n",
       "      <td>Action;Casual;Indie</td>\n",
       "      <td>Action;Indie;Casual</td>\n",
       "      <td>24</td>\n",
       "      <td>0</td>\n",
       "      <td>1</td>\n",
       "      <td>0</td>\n",
       "      <td>0</td>\n",
       "      <td>0-20000</td>\n",
       "      <td>3.99</td>\n",
       "    </tr>\n",
       "    <tr>\n",
       "      <th>27073</th>\n",
       "      <td>1066700</td>\n",
       "      <td>New Yankee 7: Deer Hunters</td>\n",
       "      <td>2019-04-17</td>\n",
       "      <td>1</td>\n",
       "      <td>Yustas Game Studio</td>\n",
       "      <td>Alawar Entertainment</td>\n",
       "      <td>windows;mac</td>\n",
       "      <td>0</td>\n",
       "      <td>Single-player;Steam Cloud</td>\n",
       "      <td>Adventure;Casual;Indie</td>\n",
       "      <td>Indie;Casual;Adventure</td>\n",
       "      <td>0</td>\n",
       "      <td>2</td>\n",
       "      <td>0</td>\n",
       "      <td>0</td>\n",
       "      <td>0</td>\n",
       "      <td>0-20000</td>\n",
       "      <td>5.19</td>\n",
       "    </tr>\n",
       "    <tr>\n",
       "      <th>27074</th>\n",
       "      <td>1069460</td>\n",
       "      <td>Rune Lord</td>\n",
       "      <td>2019-04-24</td>\n",
       "      <td>1</td>\n",
       "      <td>Adept Studios GD</td>\n",
       "      <td>Alawar Entertainment</td>\n",
       "      <td>windows;mac</td>\n",
       "      <td>0</td>\n",
       "      <td>Single-player;Steam Cloud</td>\n",
       "      <td>Adventure;Casual;Indie</td>\n",
       "      <td>Indie;Casual;Adventure</td>\n",
       "      <td>0</td>\n",
       "      <td>4</td>\n",
       "      <td>0</td>\n",
       "      <td>0</td>\n",
       "      <td>0</td>\n",
       "      <td>0-20000</td>\n",
       "      <td>5.19</td>\n",
       "    </tr>\n",
       "  </tbody>\n",
       "</table>\n",
       "<p>27075 rows × 18 columns</p>\n",
       "</div>"
      ],
      "text/plain": [
       "         appid                        name release_date  english  \\\n",
       "0           10              Counter-Strike   2000-11-01        1   \n",
       "1           20       Team Fortress Classic   1999-04-01        1   \n",
       "2           30               Day of Defeat   2003-05-01        1   \n",
       "3           40          Deathmatch Classic   2001-06-01        1   \n",
       "4           50   Half-Life: Opposing Force   1999-11-01        1   \n",
       "...        ...                         ...          ...      ...   \n",
       "27070  1065230             Room of Pandora   2019-04-24        1   \n",
       "27071  1065570                   Cyber Gun   2019-04-23        1   \n",
       "27072  1065650            Super Star Blast   2019-04-24        1   \n",
       "27073  1066700  New Yankee 7: Deer Hunters   2019-04-17        1   \n",
       "27074  1069460                   Rune Lord   2019-04-24        1   \n",
       "\n",
       "                      Dev             publisher          platforms  \\\n",
       "0                   Valve                 Valve  windows;mac;linux   \n",
       "1                   Valve                 Valve  windows;mac;linux   \n",
       "2                   Valve                 Valve  windows;mac;linux   \n",
       "3                   Valve                 Valve  windows;mac;linux   \n",
       "4        Gearbox Software                 Valve  windows;mac;linux   \n",
       "...                   ...                   ...                ...   \n",
       "27070         SHEN JIAWEI           SHEN JIAWEI            windows   \n",
       "27071      Semyon Maximov      BekkerDev Studio            windows   \n",
       "27072         EntwicklerX           EntwicklerX            windows   \n",
       "27073  Yustas Game Studio  Alawar Entertainment        windows;mac   \n",
       "27074    Adept Studios GD  Alawar Entertainment        windows;mac   \n",
       "\n",
       "       required_age                                         categories  \\\n",
       "0                 0  Multi-player;Online Multi-Player;Local Multi-P...   \n",
       "1                 0  Multi-player;Online Multi-Player;Local Multi-P...   \n",
       "2                 0              Multi-player;Valve Anti-Cheat enabled   \n",
       "3                 0  Multi-player;Online Multi-Player;Local Multi-P...   \n",
       "4                 0  Single-player;Multi-player;Valve Anti-Cheat en...   \n",
       "...             ...                                                ...   \n",
       "27070             0                   Single-player;Steam Achievements   \n",
       "27071             0                                      Single-player   \n",
       "27072             0  Single-player;Multi-player;Co-op;Shared/Split ...   \n",
       "27073             0                          Single-player;Steam Cloud   \n",
       "27074             0                          Single-player;Steam Cloud   \n",
       "\n",
       "                      Generos                 steamspy_tags  achievements  \\\n",
       "0                      Action        Action;FPS;Multiplayer             0   \n",
       "1                      Action        Action;FPS;Multiplayer             0   \n",
       "2                      Action  FPS;World War II;Multiplayer             0   \n",
       "3                      Action        Action;FPS;Multiplayer             0   \n",
       "4                      Action             FPS;Action;Sci-fi             0   \n",
       "...                       ...                           ...           ...   \n",
       "27070  Adventure;Casual;Indie        Adventure;Indie;Casual             7   \n",
       "27071  Action;Adventure;Indie        Action;Indie;Adventure             0   \n",
       "27072     Action;Casual;Indie           Action;Indie;Casual            24   \n",
       "27073  Adventure;Casual;Indie        Indie;Casual;Adventure             0   \n",
       "27074  Adventure;Casual;Indie        Indie;Casual;Adventure             0   \n",
       "\n",
       "       Notas positivas  Notas negativas  Tempo medio jogado  \\\n",
       "0               124534             3339               17612   \n",
       "1                 3318              633                 277   \n",
       "2                 3416              398                 187   \n",
       "3                 1273              267                 258   \n",
       "4                 5250              288                 624   \n",
       "...                ...              ...                 ...   \n",
       "27070                3                0                   0   \n",
       "27071                8                1                   0   \n",
       "27072                0                1                   0   \n",
       "27073                2                0                   0   \n",
       "27074                4                0                   0   \n",
       "\n",
       "       Mediana tempo jogado             owners  preço  \n",
       "0                       317  10000000-20000000   7.19  \n",
       "1                        62   5000000-10000000   3.99  \n",
       "2                        34   5000000-10000000   3.99  \n",
       "3                       184   5000000-10000000   3.99  \n",
       "4                       415   5000000-10000000   3.99  \n",
       "...                     ...                ...    ...  \n",
       "27070                     0            0-20000   2.09  \n",
       "27071                     0            0-20000   1.69  \n",
       "27072                     0            0-20000   3.99  \n",
       "27073                     0            0-20000   5.19  \n",
       "27074                     0            0-20000   5.19  \n",
       "\n",
       "[27075 rows x 18 columns]"
      ]
     },
     "execution_count": 219,
     "metadata": {},
     "output_type": "execute_result"
    }
   ],
   "source": [
    "games2 = pd.read_csv('C:\\\\Users\\\\Ruy\\\\Documents\\\\steam2.csv')\n",
    "games2\n",
    "newgames2 = games2.rename(columns={'genres':'Generos','developer':'Dev','positive_ratings':'Notas positivas',\n",
    "                                   'negative_ratings':'Notas negativas',\"average_playtime\":\"Tempo medio jogado\",\n",
    "                                      \"median_playtime\":\"Mediana tempo jogado\",\"price\":\"preço\"})\n",
    "newgames2"
   ]
  },
  {
   "cell_type": "markdown",
   "id": "0b503fcd",
   "metadata": {},
   "source": [
    "# Médias\n",
    "---"
   ]
  },
  {
   "cell_type": "code",
   "execution_count": 237,
   "id": "116b0022",
   "metadata": {},
   "outputs": [
    {
     "name": "stdout",
     "output_type": "stream",
     "text": [
      "A Média das Notas Positivas é: 1000.56\n",
      "A Média das Notas Negativas é: 211.03\n",
      "A Média do tempo medio jogado é: 149.80\n",
      "A Média da tempo jogado é: 146.06\n",
      "A Média de preço é: 6.08\n"
     ]
    }
   ],
   "source": [
    "#Media(Notas Positivas)\n",
    "MediaNotasP = newgames2[\"Notas positivas\"].mean()\n",
    "print(\"A Média das Notas Positivas é: %.2f\" %MediaNotasP)\n",
    "\n",
    "#Média(Médias De Notas Negativas)\n",
    "MediaNotasN = newgames2[\"Notas negativas\"].mean()\n",
    "print(\"A Média das Notas Negativas é: %.2f\" %MediaNotasN)\n",
    "\n",
    "#Média(Médias Do tempo medio jogado)\n",
    "MediaTempo = newgames2[\"Tempo medio jogado\"].mean()\n",
    "print(\"A Média do tempo medio jogado é: %.2f\" %MediaTempo)\n",
    "\n",
    "#Média(Média das Mediana de tempo jogado)\n",
    "MediaMediana = newgames2[\"Mediana tempo jogado\"].mean()\n",
    "print(\"A Média da tempo jogado é: %.2f\" %MediaMediana)\n",
    "\n",
    "#Média(Média dos preço)\n",
    "Mediapreço = newgames2[\"preço\"].mean()\n",
    "print(\"A Média de preço é: %.2f\" %Mediapreço)"
   ]
  },
  {
   "cell_type": "markdown",
   "id": "2737d04e",
   "metadata": {},
   "source": [
    "# Medianas\n",
    "---"
   ]
  },
  {
   "cell_type": "code",
   "execution_count": 236,
   "id": "6818f972",
   "metadata": {},
   "outputs": [
    {
     "name": "stdout",
     "output_type": "stream",
     "text": [
      "A Mediana dAs Notas positivas é: 24.00\n",
      "A Mediana das Notas negativas é: 9.00\n",
      "A Mediana do Tempo medio jogado é: 0.00\n",
      "A Mediana da Mediana de tempo jogado é: 0.00\n",
      "A Mediana dos preço é: 3.99\n"
     ]
    }
   ],
   "source": [
    "#Mediana(Notas Positivas)\n",
    "MedianaP = newgames2[\"Notas positivas\"].median()\n",
    "print(\"A Mediana das Notas positivas é: %.2f\" %MedianaP)\n",
    "\n",
    "#Médiana(Notas negativas)\n",
    "MedianaN = newgames2[\"Notas negativas\"].median()\n",
    "print(\"A Mediana das Notas negativas é: %.2f\" %MedianaN)\n",
    "\n",
    "#Médiana(Tempo medio jogado)\n",
    "MedianaTempo = newgames2[\"Tempo medio jogado\"].median()\n",
    "print(\"A Mediana do Tempo medio jogado é: %.2f\" %MedianaTempo)\n",
    "\n",
    "#Médiana(Mediana tempo jogado)\n",
    "MedianaMediana = newgames2[\"Mediana tempo jogado\"].median()\n",
    "print(\"A Mediana da Mediana de tempo jogado é: %.2f\" %MedianaMediana)\n",
    "\n",
    "#Médiana(preço)\n",
    "Medianapreço = newgames2[\"preço\"].median()\n",
    "print(\"A Mediana dos preço é: %.2f\" %Medianapreço)"
   ]
  },
  {
   "cell_type": "markdown",
   "id": "b7c4d66c",
   "metadata": {},
   "source": [
    "# Modas\n",
    "---"
   ]
  },
  {
   "cell_type": "code",
   "execution_count": 231,
   "id": "a25aaf74",
   "metadata": {},
   "outputs": [
    {
     "name": "stdout",
     "output_type": "stream",
     "text": [
      "A Moda das Notas positivas é: 1.00\n",
      "A Moda das médias é: 0.00\n",
      "A Moda do tempo medio jogado é: 0.00\n",
      "A Moda da Mediana tempo jogado é: 0.00\n",
      "A Moda dos preço é: 3.99\n"
     ]
    }
   ],
   "source": [
    "#Moda(Notas Positivas)\n",
    "MedianaP = newgames2[\"Notas positivas\"].mode()\n",
    "print(\"A Moda das Notas positivas é: %.2f\" %MedianaP)\n",
    "\n",
    "#Moda(Notas negativas)\n",
    "MedianaN = newgames2[\"Notas negativas\"].mode()\n",
    "print(\"A Moda das médias é: %.2f\" %MedianaN)\n",
    "\n",
    "#Moda(Tempo medio jogado)\n",
    "MedianaTempo = newgames2[\"Tempo medio jogado\"].mode()\n",
    "print(\"A Moda do tempo medio jogado é: %.2f\" %MedianaTempo)\n",
    "\n",
    "#Moda(Mediana tempo jogado)\n",
    "MedianaMediana = newgames2[\"Mediana tempo jogado\"].mode()\n",
    "print(\"A Moda da Mediana tempo jogado é: %.2f\" %MedianaMediana)\n",
    "\n",
    "#Médiana(preço)\n",
    "Medianapreço = newgames2[\"preço\"].median()\n",
    "print(\"A Moda dos preço é: %.2f\" %Medianapreço)"
   ]
  },
  {
   "cell_type": "markdown",
   "id": "ba872b2d",
   "metadata": {},
   "source": [
    "# Variancias\n",
    "---"
   ]
  },
  {
   "cell_type": "code",
   "execution_count": 240,
   "id": "da2f8c82",
   "metadata": {},
   "outputs": [
    {
     "name": "stdout",
     "output_type": "stream",
     "text": [
      "A Variancia das Notas Positivas é: 360571655.81\n",
      "A Variancia das Notas negativas é: 18360698.22\n",
      "A Variancia do Tempo medio jogado é: 3338068.37\n",
      "A Variancia das Mediana tempo jogado é: 5540751.43\n",
      "A Variancia dos preço é: 3.99\n"
     ]
    }
   ],
   "source": [
    "#Variancia(Notas Positivas)\n",
    "MedianaP = newgames2[\"Notas positivas\"].var()\n",
    "print(\"A Variancia das Notas Positivas é: %.2f\" %MedianaP)\n",
    "\n",
    "#Variancia(Notas negativas)\n",
    "MedianaN = newgames2[\"Notas negativas\"].var()\n",
    "print(\"A Variancia das Notas negativas é: %.2f\" %MedianaN)\n",
    "\n",
    "#variancia(Tempo medio jogado)\n",
    "MedianaTempo = newgames2[\"Tempo medio jogado\"].var()\n",
    "print(\"A Variancia do Tempo medio jogado é: %.2f\" %MedianaTempo)\n",
    "\n",
    "#Variancia(Mediana tempo jogado)\n",
    "MedianaMediana = newgames2[\"Mediana tempo jogado\"].var()\n",
    "print(\"A Variancia das Mediana tempo jogado é: %.2f\" %MedianaMediana)\n",
    "\n",
    "#Médiana(preço)\n",
    "Medianapreço = newgames2[\"preço\"].median()\n",
    "print(\"A Variancia dos preço é: %.2f\" %Medianapreço)"
   ]
  },
  {
   "cell_type": "markdown",
   "id": "5905bcb9",
   "metadata": {},
   "source": [
    "# Amplitude\n",
    "---"
   ]
  },
  {
   "cell_type": "code",
   "execution_count": 244,
   "id": "90ec9dc5",
   "metadata": {},
   "outputs": [
    {
     "name": "stdout",
     "output_type": "stream",
     "text": [
      "A Amplitude das Notas Positivas é: 2644404.00\n",
      "A Amplitude das Notas negativas é: 487076.00\n",
      "A Amplitude do Tempo medio jogado é: 190625.00\n",
      "A Amplitude das Mediana tempo jogado é: 190625.00\n",
      "A Amplitude dos preço é: 421.99\n"
     ]
    }
   ],
   "source": [
    "#Amplitude(Notas Positivas)\n",
    "AmpliP = newgames2[\"Notas positivas\"].max() - newgames2[\"Notas positivas\"].min()\n",
    "print(\"A Amplitude das Notas Positivas é: %.2f\" %AmpliP)\n",
    "\n",
    "#Amplitude(Notas negativas)\n",
    "AmpliN = newgames2[\"Notas negativas\"].max() - newgames2[\"Notas negativas\"].min()\n",
    "print(\"A Amplitude das Notas negativas é: %.2f\" %AmpliN)\n",
    "\n",
    "#Amplitude(Tempo medio jogado)\n",
    "AmpliTempo = newgames2[\"Tempo medio jogado\"].max() - newgames2[\"Tempo medio jogado\"].min()\n",
    "print(\"A Amplitude do Tempo medio jogado é: %.2f\" %AmpliTempo)\n",
    "\n",
    "#Amplitude(Mediana tempo jogado)\n",
    "AmpliMediana = newgames2[\"Mediana tempo jogado\"].max() - newgames2[\"Mediana tempo jogado\"].min()\n",
    "print(\"A Amplitude das Mediana tempo jogado é: %.2f\" %AmpliMediana)\n",
    "\n",
    "#Amplitude(preço)\n",
    "Amplipreço = newgames2[\"preço\"].max() - newgames2[\"preço\"].min()\n",
    "print(\"A Amplitude dos preço é: %.2f\" %Amplipreço)"
   ]
  },
  {
   "cell_type": "markdown",
   "id": "2ee88b8e",
   "metadata": {},
   "source": [
    "# Desvio Padrão\n",
    "---"
   ]
  },
  {
   "cell_type": "code",
   "execution_count": 246,
   "id": "c71b7f18",
   "metadata": {},
   "outputs": [
    {
     "name": "stdout",
     "output_type": "stream",
     "text": [
      "O Desvio Padrão das Notas Positivas é: 18988.72\n",
      "O Desvio Padrão das Notas negativas é: 4284.94\n",
      "O Desvio Padrão do Tempo medio jogado é: 1827.04\n",
      "O Desvio Padrão da Mediana tempo jogado é: 2353.88\n",
      "O Desvio Padrão do preço é: 7.87\n"
     ]
    }
   ],
   "source": [
    "#Desvio Padrão(Notas Positivas)\n",
    "STDP = newgames2[\"Notas positivas\"].std()\n",
    "print(\"O Desvio Padrão das Notas Positivas é: %.2f\" %STDP)\n",
    "\n",
    "#Desvio Padrão(Notas negativas)\n",
    "STDN = newgames2[\"Notas negativas\"].std()\n",
    "print(\"O Desvio Padrão das Notas negativas é: %.2f\" %STDN)\n",
    "\n",
    "#Desvio Padrão(Tempo medio jogado)\n",
    "STDTempo = newgames2[\"Tempo medio jogado\"].std()\n",
    "print(\"O Desvio Padrão do Tempo medio jogado é: %.2f\" %STDTempo)\n",
    "\n",
    "#Desvio Padrão(Mediana tempo jogado)\n",
    "STDMediana = newgames2[\"Mediana tempo jogado\"].std()\n",
    "print(\"O Desvio Padrão da Mediana tempo jogado é: %.2f\" %STDMediana)\n",
    "\n",
    "#Desvio Padrão(preço)\n",
    "STDpreço = newgames2[\"preço\"].std()\n",
    "print(\"O Desvio Padrão do preço é: %.2f\" %STDpreço)"
   ]
  },
  {
   "cell_type": "markdown",
   "id": "20fbf042",
   "metadata": {},
   "source": [
    "# Desvio Absoluto\n",
    "---"
   ]
  },
  {
   "cell_type": "code",
   "execution_count": 249,
   "id": "a18b0999",
   "metadata": {},
   "outputs": [
    {
     "name": "stdout",
     "output_type": "stream",
     "text": [
      "O Desvio Absoluto dos Notas Positivas é: 1679.70\n",
      "O Desvio Absoluto das Notas negativas é: 340.76\n",
      "O Desvio Absoluto da Tempo medio jogado é: 247.38\n",
      "O Desvio Absoluto dos Mediana tempo jogado é: 240.85\n",
      "O Desvio Absoluto dos preços é: 4.59\n"
     ]
    }
   ],
   "source": [
    "#Desvio Absoluto(Notas Positivas)\n",
    "MADP = newgames2[\"Notas positivas\"].mad()\n",
    "print(\"O Desvio Absoluto dos Notas Positivas é: %.2f\" %MADP)\n",
    "\n",
    "#Desvio Absoluto(Notas negativas)\n",
    "MADN = newgames2[\"Notas negativas\"].mad()\n",
    "print(\"O Desvio Absoluto das Notas negativas é: %.2f\" %MADN)\n",
    "\n",
    "#Desvio Absoluto(Tempo medio jogado)\n",
    "MADTempo = newgames2[\"Tempo medio jogado\"].mad()\n",
    "print(\"O Desvio Absoluto da Tempo medio jogado é: %.2f\" %MADTempo)\n",
    "\n",
    "#Desvio Absoluto(Mediana tempo jogado)\n",
    "MADMediana = newgames2[\"Mediana tempo jogado\"].mad()\n",
    "print(\"O Desvio Absoluto dos Mediana tempo jogado é: %.2f\" %MADMediana)\n",
    "\n",
    "#Desvio Absoluto(preços)\n",
    "MADpreço = newgames2[\"preço\"].mad()\n",
    "print(\"O Desvio Absoluto dos preços é: %.2f\" %MADpreço)"
   ]
  },
  {
   "cell_type": "markdown",
   "id": "cb3b4764",
   "metadata": {},
   "source": [
    "# Correlação\n",
    "---"
   ]
  },
  {
   "cell_type": "code",
   "execution_count": 251,
   "id": "065ae1e9",
   "metadata": {},
   "outputs": [
    {
     "data": {
      "text/html": [
       "<div>\n",
       "<style scoped>\n",
       "    .dataframe tbody tr th:only-of-type {\n",
       "        vertical-align: middle;\n",
       "    }\n",
       "\n",
       "    .dataframe tbody tr th {\n",
       "        vertical-align: top;\n",
       "    }\n",
       "\n",
       "    .dataframe thead th {\n",
       "        text-align: right;\n",
       "    }\n",
       "</style>\n",
       "<table border=\"1\" class=\"dataframe\">\n",
       "  <thead>\n",
       "    <tr style=\"text-align: right;\">\n",
       "      <th></th>\n",
       "      <th>Notas positivas</th>\n",
       "      <th>Notas negativas</th>\n",
       "      <th>Tempo medio jogado</th>\n",
       "      <th>Mediana tempo jogado</th>\n",
       "      <th>preço</th>\n",
       "    </tr>\n",
       "  </thead>\n",
       "  <tbody>\n",
       "    <tr>\n",
       "      <th>Notas positivas</th>\n",
       "      <td>1.000000</td>\n",
       "      <td>0.762804</td>\n",
       "      <td>0.157898</td>\n",
       "      <td>0.035776</td>\n",
       "      <td>0.036110</td>\n",
       "    </tr>\n",
       "    <tr>\n",
       "      <th>Notas negativas</th>\n",
       "      <td>0.762804</td>\n",
       "      <td>1.000000</td>\n",
       "      <td>0.161140</td>\n",
       "      <td>0.047887</td>\n",
       "      <td>0.051259</td>\n",
       "    </tr>\n",
       "    <tr>\n",
       "      <th>Tempo medio jogado</th>\n",
       "      <td>0.157898</td>\n",
       "      <td>0.161140</td>\n",
       "      <td>1.000000</td>\n",
       "      <td>0.914900</td>\n",
       "      <td>0.049242</td>\n",
       "    </tr>\n",
       "    <tr>\n",
       "      <th>Mediana tempo jogado</th>\n",
       "      <td>0.035776</td>\n",
       "      <td>0.047887</td>\n",
       "      <td>0.914900</td>\n",
       "      <td>1.000000</td>\n",
       "      <td>0.036610</td>\n",
       "    </tr>\n",
       "    <tr>\n",
       "      <th>preço</th>\n",
       "      <td>0.036110</td>\n",
       "      <td>0.051259</td>\n",
       "      <td>0.049242</td>\n",
       "      <td>0.036610</td>\n",
       "      <td>1.000000</td>\n",
       "    </tr>\n",
       "  </tbody>\n",
       "</table>\n",
       "</div>"
      ],
      "text/plain": [
       "                      Notas positivas  Notas negativas  Tempo medio jogado  \\\n",
       "Notas positivas              1.000000         0.762804            0.157898   \n",
       "Notas negativas              0.762804         1.000000            0.161140   \n",
       "Tempo medio jogado           0.157898         0.161140            1.000000   \n",
       "Mediana tempo jogado         0.035776         0.047887            0.914900   \n",
       "preço                        0.036110         0.051259            0.049242   \n",
       "\n",
       "                      Mediana tempo jogado     preço  \n",
       "Notas positivas                   0.035776  0.036110  \n",
       "Notas negativas                   0.047887  0.051259  \n",
       "Tempo medio jogado                0.914900  0.049242  \n",
       "Mediana tempo jogado              1.000000  0.036610  \n",
       "preço                             0.036610  1.000000  "
      ]
     },
     "execution_count": 251,
     "metadata": {},
     "output_type": "execute_result"
    }
   ],
   "source": [
    "newgames2[[\"Notas positivas\",\"Notas negativas\",\"Tempo medio jogado\",\"Mediana tempo jogado\",\"preço\"]].corr()"
   ]
  },
  {
   "cell_type": "markdown",
   "id": "078d31ac",
   "metadata": {},
   "source": [
    "# Covariancia\n",
    "---"
   ]
  },
  {
   "cell_type": "code",
   "execution_count": 252,
   "id": "dd44c665",
   "metadata": {
    "scrolled": false
   },
   "outputs": [
    {
     "data": {
      "text/html": [
       "<div>\n",
       "<style scoped>\n",
       "    .dataframe tbody tr th:only-of-type {\n",
       "        vertical-align: middle;\n",
       "    }\n",
       "\n",
       "    .dataframe tbody tr th {\n",
       "        vertical-align: top;\n",
       "    }\n",
       "\n",
       "    .dataframe thead th {\n",
       "        text-align: right;\n",
       "    }\n",
       "</style>\n",
       "<table border=\"1\" class=\"dataframe\">\n",
       "  <thead>\n",
       "    <tr style=\"text-align: right;\">\n",
       "      <th></th>\n",
       "      <th>appid</th>\n",
       "      <th>english</th>\n",
       "      <th>required_age</th>\n",
       "      <th>achievements</th>\n",
       "      <th>Notas positivas</th>\n",
       "      <th>Notas negativas</th>\n",
       "      <th>Tempo medio jogado</th>\n",
       "      <th>Mediana tempo jogado</th>\n",
       "      <th>preço</th>\n",
       "    </tr>\n",
       "  </thead>\n",
       "  <tbody>\n",
       "    <tr>\n",
       "      <th>appid</th>\n",
       "      <td>6.294788e+10</td>\n",
       "      <td>-3990.420960</td>\n",
       "      <td>-52965.193349</td>\n",
       "      <td>3.584411e+06</td>\n",
       "      <td>-3.377209e+08</td>\n",
       "      <td>-5.611620e+07</td>\n",
       "      <td>-3.219558e+07</td>\n",
       "      <td>-2.852933e+07</td>\n",
       "      <td>-300537.927171</td>\n",
       "    </tr>\n",
       "    <tr>\n",
       "      <th>english</th>\n",
       "      <td>-3.990421e+03</td>\n",
       "      <td>0.018518</td>\n",
       "      <td>0.000937</td>\n",
       "      <td>6.777044e-01</td>\n",
       "      <td>1.550725e+01</td>\n",
       "      <td>3.326619e+00</td>\n",
       "      <td>8.415192e-02</td>\n",
       "      <td>-1.094274e+00</td>\n",
       "      <td>0.008269</td>\n",
       "    </tr>\n",
       "    <tr>\n",
       "      <th>required_age</th>\n",
       "      <td>-5.296519e+04</td>\n",
       "      <td>0.000937</td>\n",
       "      <td>5.789050</td>\n",
       "      <td>-4.632316e+00</td>\n",
       "      <td>2.760346e+03</td>\n",
       "      <td>5.938341e+02</td>\n",
       "      <td>1.513205e+02</td>\n",
       "      <td>8.352521e+01</td>\n",
       "      <td>2.280478</td>\n",
       "    </tr>\n",
       "    <tr>\n",
       "      <th>achievements</th>\n",
       "      <td>3.584411e+06</td>\n",
       "      <td>0.677704</td>\n",
       "      <td>-4.632316</td>\n",
       "      <td>1.243763e+05</td>\n",
       "      <td>4.057185e+04</td>\n",
       "      <td>5.406531e+03</td>\n",
       "      <td>9.133495e+03</td>\n",
       "      <td>8.265841e+03</td>\n",
       "      <td>-22.207101</td>\n",
       "    </tr>\n",
       "    <tr>\n",
       "      <th>Notas positivas</th>\n",
       "      <td>-3.377209e+08</td>\n",
       "      <td>15.507254</td>\n",
       "      <td>2760.345540</td>\n",
       "      <td>4.057185e+04</td>\n",
       "      <td>3.605717e+08</td>\n",
       "      <td>6.206596e+07</td>\n",
       "      <td>5.477961e+06</td>\n",
       "      <td>1.599082e+06</td>\n",
       "      <td>5399.635961</td>\n",
       "    </tr>\n",
       "    <tr>\n",
       "      <th>Notas negativas</th>\n",
       "      <td>-5.611620e+07</td>\n",
       "      <td>3.326619</td>\n",
       "      <td>593.834127</td>\n",
       "      <td>5.406531e+03</td>\n",
       "      <td>6.206596e+07</td>\n",
       "      <td>1.836070e+07</td>\n",
       "      <td>1.261523e+06</td>\n",
       "      <td>4.830007e+05</td>\n",
       "      <td>1729.651643</td>\n",
       "    </tr>\n",
       "    <tr>\n",
       "      <th>Tempo medio jogado</th>\n",
       "      <td>-3.219558e+07</td>\n",
       "      <td>0.084152</td>\n",
       "      <td>151.320501</td>\n",
       "      <td>9.133495e+03</td>\n",
       "      <td>5.477961e+06</td>\n",
       "      <td>1.261523e+06</td>\n",
       "      <td>3.338068e+06</td>\n",
       "      <td>3.934646e+06</td>\n",
       "      <td>708.488230</td>\n",
       "    </tr>\n",
       "    <tr>\n",
       "      <th>Mediana tempo jogado</th>\n",
       "      <td>-2.852933e+07</td>\n",
       "      <td>-1.094274</td>\n",
       "      <td>83.525213</td>\n",
       "      <td>8.265841e+03</td>\n",
       "      <td>1.599082e+06</td>\n",
       "      <td>4.830007e+05</td>\n",
       "      <td>3.934646e+06</td>\n",
       "      <td>5.540751e+06</td>\n",
       "      <td>678.629051</td>\n",
       "    </tr>\n",
       "    <tr>\n",
       "      <th>preço</th>\n",
       "      <td>-3.005379e+05</td>\n",
       "      <td>0.008269</td>\n",
       "      <td>2.280478</td>\n",
       "      <td>-2.220710e+01</td>\n",
       "      <td>5.399636e+03</td>\n",
       "      <td>1.729652e+03</td>\n",
       "      <td>7.084882e+02</td>\n",
       "      <td>6.786291e+02</td>\n",
       "      <td>62.014401</td>\n",
       "    </tr>\n",
       "  </tbody>\n",
       "</table>\n",
       "</div>"
      ],
      "text/plain": [
       "                             appid      english  required_age  achievements  \\\n",
       "appid                 6.294788e+10 -3990.420960 -52965.193349  3.584411e+06   \n",
       "english              -3.990421e+03     0.018518      0.000937  6.777044e-01   \n",
       "required_age         -5.296519e+04     0.000937      5.789050 -4.632316e+00   \n",
       "achievements          3.584411e+06     0.677704     -4.632316  1.243763e+05   \n",
       "Notas positivas      -3.377209e+08    15.507254   2760.345540  4.057185e+04   \n",
       "Notas negativas      -5.611620e+07     3.326619    593.834127  5.406531e+03   \n",
       "Tempo medio jogado   -3.219558e+07     0.084152    151.320501  9.133495e+03   \n",
       "Mediana tempo jogado -2.852933e+07    -1.094274     83.525213  8.265841e+03   \n",
       "preço                -3.005379e+05     0.008269      2.280478 -2.220710e+01   \n",
       "\n",
       "                      Notas positivas  Notas negativas  Tempo medio jogado  \\\n",
       "appid                   -3.377209e+08    -5.611620e+07       -3.219558e+07   \n",
       "english                  1.550725e+01     3.326619e+00        8.415192e-02   \n",
       "required_age             2.760346e+03     5.938341e+02        1.513205e+02   \n",
       "achievements             4.057185e+04     5.406531e+03        9.133495e+03   \n",
       "Notas positivas          3.605717e+08     6.206596e+07        5.477961e+06   \n",
       "Notas negativas          6.206596e+07     1.836070e+07        1.261523e+06   \n",
       "Tempo medio jogado       5.477961e+06     1.261523e+06        3.338068e+06   \n",
       "Mediana tempo jogado     1.599082e+06     4.830007e+05        3.934646e+06   \n",
       "preço                    5.399636e+03     1.729652e+03        7.084882e+02   \n",
       "\n",
       "                      Mediana tempo jogado          preço  \n",
       "appid                        -2.852933e+07 -300537.927171  \n",
       "english                      -1.094274e+00       0.008269  \n",
       "required_age                  8.352521e+01       2.280478  \n",
       "achievements                  8.265841e+03     -22.207101  \n",
       "Notas positivas               1.599082e+06    5399.635961  \n",
       "Notas negativas               4.830007e+05    1729.651643  \n",
       "Tempo medio jogado            3.934646e+06     708.488230  \n",
       "Mediana tempo jogado          5.540751e+06     678.629051  \n",
       "preço                         6.786291e+02      62.014401  "
      ]
     },
     "execution_count": 252,
     "metadata": {},
     "output_type": "execute_result"
    }
   ],
   "source": [
    "newgames2.cov()"
   ]
  },
  {
   "cell_type": "markdown",
   "id": "b25e2b8f",
   "metadata": {},
   "source": [
    "# Boxplot\n",
    "---"
   ]
  },
  {
   "cell_type": "code",
   "execution_count": 253,
   "id": "e2200009",
   "metadata": {},
   "outputs": [
    {
     "data": {
      "text/plain": [
       "<AxesSubplot:>"
      ]
     },
     "execution_count": 253,
     "metadata": {},
     "output_type": "execute_result"
    },
    {
     "data": {
      "image/png": "[encoded data removed]",
      "text/plain": [
       "<Figure size 432x288 with 1 Axes>"
      ]
     },
     "metadata": {
      "needs_background": "light"
     },
     "output_type": "display_data"
    }
   ],
   "source": [
    "newgames2.boxplot(column=[\"Notas positivas\",\"Notas negativas\",\"Tempo medio jogado\",\"Mediana tempo jogado\",\"preço\"])"
   ]
  },
  {
   "cell_type": "code",
   "execution_count": null,
   "id": "e5decc9e",
   "metadata": {},
   "outputs": [],
   "source": []
  }
 ],
 "metadata": {
  "kernelspec": {
   "display_name": "Python 3",
   "language": "python",
   "name": "python3"
  },
  "language_info": {
   "codemirror_mode": {
    "name": "ipython",
    "version": 3
   },
   "file_extension": ".py",
   "mimetype": "text/x-python",
   "name": "python",
   "nbconvert_exporter": "python",
   "pygments_lexer": "ipython3",
   "version": "3.9.4"
  }
 },
 "nbformat": 4,
 "nbformat_minor": 5
}
